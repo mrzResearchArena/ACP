{
  "nbformat": 4,
  "nbformat_minor": 0,
  "metadata": {
    "colab": {
      "name": "ACP-FASTA-Numeric.ipynb",
      "provenance": [],
      "authorship_tag": "ABX9TyPt9umwuDNydZw0VTIF3cLG",
      "include_colab_link": true
    },
    "kernelspec": {
      "name": "python3",
      "display_name": "Python 3"
    }
  },
  "cells": [
    {
      "cell_type": "markdown",
      "metadata": {
        "id": "view-in-github",
        "colab_type": "text"
      },
      "source": [
        "<a href=\"https://colab.research.google.com/github/mrzResearchArena/Anticancer-Peptides-CNN/blob/master/ACP-FASTA-Numeric.ipynb\" target=\"_parent\"><img src=\"https://colab.research.google.com/assets/colab-badge.svg\" alt=\"Open In Colab\"/></a>"
      ]
    },
    {
      "cell_type": "code",
      "metadata": {
        "id": "xtpeC6qqIfOZ"
      },
      "source": [
        "paddingLength = 15\n",
        "\n",
        "# Core\n",
        "import numpy as np\n",
        "import itertools"
      ],
      "execution_count": 48,
      "outputs": []
    },
    {
      "cell_type": "code",
      "metadata": {
        "id": "Y53eerxWI_xj"
      },
      "source": [
        "# Input & Output Files Location\n",
        "# Automaticaly, *.npy will extension append.\n",
        "\n",
        "# inputFile = 'anyName.fa'\n",
        "inputFile = 'acp164.txt'\n",
        "\n",
        "outputFile1= 'bpf'    # T x 20\n",
        "outputFile2= 'bit'    # T x 31\n",
        "outputFile3= 'blosum' # T x 20"
      ],
      "execution_count": 49,
      "outputs": []
    },
    {
      "cell_type": "code",
      "metadata": {
        "id": "HTMJfKyxJeRI"
      },
      "source": [
        "def check(seq):\n",
        "    seq  =set(seq)\n",
        "    proteinElements = set('ACDEFGHIKLMNPQRSTVWY') # Except: BOJUXZ\n",
        "\n",
        "    if proteinElements >= seq:\n",
        "        return True\n",
        "    else:\n",
        "        return False\n",
        "    #end-if\n",
        "#end-def"
      ],
      "execution_count": 50,
      "outputs": []
    },
    {
      "cell_type": "code",
      "metadata": {
        "id": "VKgQ8lRoKPA_"
      },
      "source": [
        "def readFASTAs(fileName):\n",
        "\n",
        "    '''\n",
        "    :param fileName:\n",
        "    :return: genome sequences\n",
        "    '''\n",
        "    with open(fileName, 'r') as file:\n",
        "        v = []\n",
        "        genome = ''\n",
        "        for line in file:\n",
        "            if line[0] != '>':\n",
        "                genome += line.strip()\n",
        "            else:\n",
        "                v.append(genome.upper())\n",
        "                genome = ''\n",
        "        #end-for\n",
        "        v.append(genome.upper())\n",
        "        del v[0]\n",
        "        return v\n",
        "    #end-with\n",
        "#end-def"
      ],
      "execution_count": 51,
      "outputs": []
    },
    {
      "cell_type": "code",
      "metadata": {
        "colab": {
          "base_uri": "https://localhost:8080/"
        },
        "id": "ElGBH4dOKalw",
        "outputId": "3aa5dc44-0206-48da-eeee-34e55139d99b"
      },
      "source": [
        "Sequences = readFASTAs(inputFile)\n",
        "\n",
        "# Total Sequence:\n",
        "print(len(Sequences))"
      ],
      "execution_count": 52,
      "outputs": [
        {
          "output_type": "stream",
          "text": [
            "164\n"
          ],
          "name": "stdout"
        }
      ]
    },
    {
      "cell_type": "code",
      "metadata": {
        "id": "CNYKTf_cKW47"
      },
      "source": [
        "def ensure():\n",
        "    for seq in Sequences:\n",
        "        if check(seq) == False:\n",
        "            return False\n",
        "        #end-if\n",
        "    #end-for\n",
        "    return True\n",
        "#end-def\n",
        "\n",
        "\n",
        "assert ensure() == True # It won't work, if the bad character found."
      ],
      "execution_count": 53,
      "outputs": []
    },
    {
      "cell_type": "code",
      "metadata": {
        "id": "PxIub9gHK3Bn"
      },
      "source": [
        "# Protein/Peptide One-Zero Encoding\n",
        "\n",
        "dBPF = {\n",
        "    'A':[1,0,0,0,0,0,0,0,0,0,0,0,0,0,0,0,0,0,0,0],\n",
        "    'C':[0,1,0,0,0,0,0,0,0,0,0,0,0,0,0,0,0,0,0,0],\n",
        "    'D':[0,0,1,0,0,0,0,0,0,0,0,0,0,0,0,0,0,0,0,0],\n",
        "    'E':[0,0,0,1,0,0,0,0,0,0,0,0,0,0,0,0,0,0,0,0],\n",
        "    'F':[0,0,0,0,1,0,0,0,0,0,0,0,0,0,0,0,0,0,0,0],\n",
        "    'G':[0,0,0,0,0,1,0,0,0,0,0,0,0,0,0,0,0,0,0,0],\n",
        "    'H':[0,0,0,0,0,0,1,0,0,0,0,0,0,0,0,0,0,0,0,0],\n",
        "    'I':[0,0,0,0,0,0,0,1,0,0,0,0,0,0,0,0,0,0,0,0],\n",
        "    'K':[0,0,0,0,0,0,0,0,1,0,0,0,0,0,0,0,0,0,0,0],\n",
        "    'L':[0,0,0,0,0,0,0,0,0,1,0,0,0,0,0,0,0,0,0,0],\n",
        "    'M':[0,0,0,0,0,0,0,0,0,0,1,0,0,0,0,0,0,0,0,0],\n",
        "    'N':[0,0,0,0,0,0,0,0,0,0,0,1,0,0,0,0,0,0,0,0],\n",
        "    'P':[0,0,0,0,0,0,0,0,0,0,0,0,1,0,0,0,0,0,0,0],\n",
        "    'Q':[0,0,0,0,0,0,0,0,0,0,0,0,0,1,0,0,0,0,0,0],\n",
        "    'R':[0,0,0,0,0,0,0,0,0,0,0,0,0,0,1,0,0,0,0,0],\n",
        "    'S':[0,0,0,0,0,0,0,0,0,0,0,0,0,0,0,1,0,0,0,0],\n",
        "    'T':[0,0,0,0,0,0,0,0,0,0,0,0,0,0,0,0,1,0,0,0],\n",
        "    'V':[0,0,0,0,0,0,0,0,0,0,0,0,0,0,0,0,0,1,0,0],\n",
        "    'W':[0,0,0,0,0,0,0,0,0,0,0,0,0,0,0,0,0,0,1,0],\n",
        "    'Y':[0,0,0,0,0,0,0,0,0,0,0,0,0,0,0,0,0,0,0,1],\n",
        "    'p':[0,0,0,0,0,0,0,0,0,0,0,0,0,0,0,0,0,0,0,0], #padding\n",
        "}\n",
        "\n",
        "dBIT = {\n",
        "    'A': [0, 0, 0, 0, 1, 0, 1, 0, 1, 0, 1, 0, 0, 0, 1, 0, 1, 0, 0, 0, 1, 0, 1, 0, 0, 0, 1, 0, 1, 0, 0],\n",
        "    'R': [0, 0, 1, 1, 0, 0, 0, 1, 0, 0, 0, 0, 1, 0, 0, 1, 0, 0, 1, 0, 0, 1, 0, 0, 1, 0, 1, 0, 0, 0, 1],\n",
        "    'N': [0, 0, 0, 1, 0, 0, 0, 0, 1, 0, 1, 0, 0, 0, 0, 1, 0, 1, 0, 0, 0, 1, 0, 1, 0, 1, 0, 0, 0, 0, 1],\n",
        "    'D': [0, 1, 0, 1, 0, 0, 0, 1, 1, 0, 0, 1, 0, 0, 0, 1, 1, 0, 0, 0, 0, 1, 1, 0, 0, 1, 0, 0, 0, 0, 1],\n",
        "    'C': [0, 0, 0, 1, 1, 0, 1, 0, 1, 0, 1, 0, 0, 1, 0, 0, 1, 0, 0, 1, 0, 0, 0, 1, 0, 0, 0, 1, 1, 0, 0],\n",
        "    'Q': [0, 0, 0, 1, 0, 0, 0, 0, 0, 0, 1, 0, 0, 0, 0, 1, 0, 1, 0, 0, 0, 1, 0, 1, 0, 0, 1, 0, 0, 0, 1],\n",
        "    'E': [0, 1, 0, 1, 0, 0, 0, 1, 0, 0, 0, 1, 0, 0, 0, 1, 0, 1, 0, 0, 0, 1, 0, 1, 0, 0, 1, 0, 0, 0, 1],\n",
        "    'G': [0, 0, 0, 0, 1, 0, 1, 0, 1, 0, 1, 0, 0, 0, 1, 0, 1, 0, 0, 0, 1, 0, 1, 0, 0, 1, 0, 0, 1, 0, 0],\n",
        "    'H': [1, 0, 1, 1, 1, 0, 0, 1, 0, 0, 1, 0, 0, 0, 1, 0, 0, 0, 1, 0, 0, 1, 0, 0, 1, 0, 1, 0, 0, 1, 0],\n",
        "    'I': [0, 0, 0, 0, 1, 1, 0, 0, 0, 0, 1, 0, 0, 1, 0, 0, 0, 1, 0, 1, 0, 0, 0, 1, 0, 0, 0, 1, 1, 0, 0],\n",
        "    'L': [0, 0, 0, 0, 1, 1, 0, 0, 0, 0, 1, 0, 0, 1, 0, 0, 0, 1, 0, 1, 0, 0, 0, 1, 0, 0, 1, 0, 1, 0, 0],\n",
        "    'K': [0, 0, 1, 1, 1, 0, 0, 1, 0, 0, 0, 0, 1, 0, 0, 1, 0, 0, 1, 0, 0, 1, 0, 0, 1, 0, 1, 0, 0, 0, 1],\n",
        "    'M': [0, 0, 0, 0, 1, 0, 0, 0, 0, 0, 1, 0, 0, 1, 0, 0, 0, 0, 1, 1, 0, 0, 0, 0, 1, 0, 1, 0, 0, 1, 0],\n",
        "    'F': [1, 0, 0, 0, 1, 0, 0, 0, 0, 0, 1, 0, 0, 1, 0, 0, 0, 0, 1, 1, 0, 0, 0, 0, 1, 0, 0, 1, 1, 0, 0],\n",
        "    'P': [0, 0, 0, 0, 0, 0, 0, 0, 1, 1, 1, 0, 0, 0, 1, 0, 1, 0, 0, 0, 1, 0, 0, 1, 0, 1, 0, 0, 0, 1, 0],\n",
        "    'S': [0, 0, 0, 1, 0, 0, 1, 0, 1, 0, 1, 0, 0, 0, 1, 0, 1, 0, 0, 0, 1, 0, 1, 0, 0, 1, 0, 0, 0, 1, 0],\n",
        "    'T': [0, 0, 0, 1, 1, 0, 0, 0, 1, 0, 1, 0, 0, 0, 1, 0, 1, 0, 0, 0, 1, 0, 1, 0, 0, 0, 0, 1, 0, 1, 0],\n",
        "    'W': [1, 0, 0, 1, 1, 0, 0, 0, 0, 0, 1, 0, 0, 1, 0, 0, 0, 0, 1, 1, 0, 0, 0, 0, 1, 0, 0, 1, 1, 0, 0],\n",
        "    'Y': [1, 0, 0, 1, 1, 0, 0, 0, 0, 0, 1, 0, 0, 0, 1, 0, 0, 0, 1, 1, 0, 0, 0, 0, 1, 0, 0, 1, 0, 1, 0],\n",
        "    'V': [0, 0, 0, 0, 1, 1, 0, 0, 1, 0, 1, 0, 0, 1, 0, 0, 0, 1, 0, 1, 0, 0, 0, 1, 0, 0, 0, 1, 1, 0, 0],\n",
        "    'p': [0, 0, 0, 0, 0, 0, 0, 0, 0, 0, 0, 0, 0, 0, 0, 0, 0, 0, 0, 0, 0, 0, 0, 0, 0, 0, 0, 0, 0, 0, 0],\n",
        "}\n",
        "\n",
        "\n",
        "dBLOSUM = {\n",
        "    'A':[ 4,  0, -2, -1, -2,  0, -2, -1, -1, -1, -1, -2, -1, -1, -1,  1,  0,  0, -3, -2],\n",
        "    'C':[ 0,  9, -3, -4, -2, -3, -3, -1, -3, -1, -1, -3, -3, -3, -3, -1, -1, -1, -2, -2],\n",
        "    'D':[-2, -3,  6,  2, -3, -1, -1, -3, -1, -4, -3,  1, -1,  0, -2,  0, -1, -3, -4, -3],\n",
        "    'E':[-1, -4,  2,  5, -3, -2,  0, -3,  1, -3, -2,  0, -1,  2,  0,  0, -1, -2, -3, -2],\n",
        "    'F':[-2, -2, -3, -3,  6, -3, -1,  0, -3,  0,  0, -3, -4, -3, -3, -2, -2, -1,  1,  3],\n",
        "    'G':[ 0, -3, -1, -2, -3,  6, -2, -4, -2, -4, -3,  0, -2, -2, -2,  0, -2, -3, -2, -3],\n",
        "    'H':[-2, -3, -1,  0, -1, -2,  8, -3, -1, -3, -2,  1, -2,  0,  0, -1, -2, -3, -2,  2],\n",
        "    'I':[-1, -1, -3, -3,  0, -4, -3,  4, -3,  2,  1, -3, -3, -3, -3, -2, -1,  3, -3, -1],\n",
        "    'K':[-1, -3, -1,  1, -3, -2, -1, -3,  5, -2, -1,  0, -1,  1,  2,  0, -1, -2, -3, -2],\n",
        "    'L':[-1, -1, -4, -3,  0, -4, -3,  2, -2,  4,  2, -3, -3, -2, -2, -2, -1,  1, -2, -1],\n",
        "    'M':[-1, -1, -3, -2,  0, -3, -2,  1, -1,  2,  5, -2, -2,  0, -1, -1, -1,  1, -1, -1],\n",
        "    'N':[-2, -3,  1,  0, -3,  0,  1, -3,  0, -3, -2,  6, -2,  0,  0,  1,  0, -3, -4, -2],\n",
        "    'P':[-1, -3, -1, -1, -4, -2, -2, -3, -1, -3, -2, -2,  7, -1, -2, -1, -1, -2, -4, -3],\n",
        "    'Q':[-1, -3,  0,  2, -3, -2,  0, -3,  1, -2,  0,  0, -1,  5,  1,  0, -1, -2, -2, -1],\n",
        "    'R':[-1, -3, -2,  0, -3, -2,  0, -3,  2, -2, -1,  0, -2,  1,  5, -1, -1, -3, -3, -2],\n",
        "    'S':[ 1, -1,  0,  0, -2,  0, -1, -2,  0, -2, -1,  1, -1,  0, -1,  4,  1, -2, -3, -2],\n",
        "    'T':[ 0, -1, -1, -1, -2, -2, -2, -1, -1, -1, -1,  0, -1, -1, -1,  1,  5,  0, -2, -2],\n",
        "    'V':[ 0, -1, -3, -2, -1, -3, -3,  3, -2,  1,  1, -3, -2, -2, -3, -2,  0,  4, -3, -1],\n",
        "    'W':[-3, -2, -4, -3,  1, -2, -2, -3, -3, -2, -1, -4, -4, -2, -3, -3, -2, -3, 11,  2],\n",
        "    'Y':[-2, -2, -3, -2,  3, -3,  2, -1, -2, -1, -1, -2, -3, -1, -2, -2, -2, -1,  2,  7],\n",
        "    'p':[ 0,  0,  0,  0,  0,  0,  0,  0,  0,  0,  0,  0,  0,  0,  0,  0,  0,  0,  0,  0],   \n",
        "}"
      ],
      "execution_count": 54,
      "outputs": []
    },
    {
      "cell_type": "code",
      "metadata": {
        "id": "u2x8skvMLA7X"
      },
      "source": [
        "def numeric(d):\n",
        "    X = []\n",
        "\n",
        "    for sequence in Sequences:\n",
        "        x = []\n",
        "        for residue in sequence:\n",
        "            x.append(d[residue])\n",
        "        #end-for\n",
        "        v =  len(sequence) - paddingLength\n",
        "        if v < 0:\n",
        "            v = v*(-1)\n",
        "            for i in range(v):\n",
        "                x.append(d['p'])\n",
        "            #end-for\n",
        "        else:\n",
        "            x = x[0:paddingLength]\n",
        "        \n",
        "        x = np.array(x)\n",
        "        # x = x.T\n",
        "        X.append(x)\n",
        "\n",
        "    X = np.array(X)\n",
        "    return X\n",
        "#end-def"
      ],
      "execution_count": 55,
      "outputs": []
    },
    {
      "cell_type": "code",
      "metadata": {
        "id": "BLzJGVOzL9Oc"
      },
      "source": [
        "X = numeric(dBPF)\n",
        "np.save(file=outputFile1, arr=X)\n",
        "\n",
        "X = numeric(dBIT)\n",
        "np.save(file=outputFile2, arr=X)\n",
        "\n",
        "X = numeric(dBLOSUM)\n",
        "np.save(file=outputFile3, arr=X)"
      ],
      "execution_count": 56,
      "outputs": []
    },
    {
      "cell_type": "code",
      "metadata": {
        "id": "NYEeVFNSNsgA"
      },
      "source": [
        ""
      ],
      "execution_count": null,
      "outputs": []
    }
  ]
}